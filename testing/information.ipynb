{
 "cells": [
  {
   "cell_type": "code",
   "execution_count": 6,
   "metadata": {},
   "outputs": [],
   "source": [
    "import requests\n",
    "import re"
   ]
  },
  {
   "cell_type": "code",
   "execution_count": 30,
   "metadata": {},
   "outputs": [],
   "source": [
    "def function_csv_for_gene(gene):\n",
    "    data = requests.get(f'https://api.cpicpgx.org/v1/allele?genesymbol=eq.{gene}').json()\n",
    "    with open(f'{gene}-function.csv', 'w') as fp:\n",
    "        fp.write('gene,function status,activity-operator,activity-value\\n')\n",
    "        for allele in data:\n",
    "            if allele['clinicalfunctionalstatus'] == None: continue\n",
    "            fp.write(','.join([ f\"{allele['genesymbol']}{allele['name']}\", allele['clinicalfunctionalstatus'] ]) + ',')\n",
    "            activity = re.search('(\\D*)([0-9.]+)', allele['activityvalue'] if allele['activityvalue'] else '')\n",
    "            if activity:\n",
    "                fp.write(','.join([ activity.group(1) if activity.group(1) else '', activity.group(2) ]))\n",
    "            else:\n",
    "                fp.write(','.join([ '', '-1']))\n",
    "            fp.write('\\n')"
   ]
  },
  {
   "cell_type": "code",
   "execution_count": 31,
   "metadata": {},
   "outputs": [],
   "source": [
    "function_csv_for_gene('CYP2C19')"
   ]
  },
  {
   "cell_type": "code",
   "execution_count": null,
   "metadata": {},
   "outputs": [],
   "source": []
  }
 ],
 "metadata": {
  "interpreter": {
   "hash": "aee8b7b246df8f9039afb4144a1f6fd8d2ca17a180786b69acc140d282b71a49"
  },
  "kernelspec": {
   "display_name": "Python 3.9.10 64-bit",
   "language": "python",
   "name": "python3"
  },
  "language_info": {
   "codemirror_mode": {
    "name": "ipython",
    "version": 3
   },
   "file_extension": ".py",
   "mimetype": "text/x-python",
   "name": "python",
   "nbconvert_exporter": "python",
   "pygments_lexer": "ipython3",
   "version": "3.9.10"
  },
  "orig_nbformat": 4
 },
 "nbformat": 4,
 "nbformat_minor": 2
}
